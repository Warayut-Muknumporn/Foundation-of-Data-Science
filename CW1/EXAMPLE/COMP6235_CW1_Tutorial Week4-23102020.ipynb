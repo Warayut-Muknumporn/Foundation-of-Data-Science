{
 "cells": [
  {
   "cell_type": "markdown",
   "metadata": {},
   "source": [
    "# Coursework 1 - Tutorial (25 October 2019)\n",
    "Notebook prepared by your tutor Michał Robert Hoffman and delivered by Mengya Liu Mengya.Liu@soton.ac.uk.\n",
    "\n",
    "Feel free to modify as required.\n",
    "\n",
    "## Overview\n",
    "\n",
    "In this coursework, we use Python to import fishing data and analyse it.\n",
    "Please read the coursework specification (CW1) for further instructions.\n",
    "\n",
    "This tutorial will cover the most important elements you need to report on, but not all! Always refer to your lecture notes if you're not sure what to cover.\n",
    "\n",
    "### Important notes:\n",
    "\n",
    "You are required to submit a properly formatted report. Jupyter notebook submissions will not be accepted! Also the graphics we generate below are very basic. You will be required to make them look more professional, by manipulating the size of the graphics, and finding optimal graphing parameters, such as bin sizes etc. You may not reuse your friends image files, as that may constitute a breach of academic integrity. Also, all your write-ups in the final report must be your own original work.\n",
    "\n",
    "Please also note that some outputs have been pre-populated from you. When you change your code cells and run them, the outputs may change slightly, which is expected! If your new output looks very different to the previous outputs, that could be a problem."
   ]
  },
  {
   "cell_type": "markdown",
   "metadata": {},
   "source": [
    "## Importing the libraries\n",
    "\n",
    "In this case we are going to use the library pandas. \n",
    "You can find the documentation of the library [here](https://pandas.pydata.org/). \n",
    "This library is one of the most important libraries to analyse data in Python. \n",
    "It is connected with Numpy and Matplotlib libraries. Check more about these libraries [here]\n",
    "(http://www.numpy.org/) and [here](https://matplotlib.org/).\n",
    "\n",
    "Fill in the blanks in the imports below:"
   ]
  },
  {
   "cell_type": "code",
   "execution_count": 1,
   "metadata": {},
   "outputs": [],
   "source": [
    "# Import the libraries pandas, and matplotlib\n",
    "# for matplotlib just load pyplot\n",
    "import ___ as __\n",
    "import ___ as __ #This is to format your plots and do things like plt.figure(figsize=(20,10))\n"
   ]
  },
  {
   "cell_type": "markdown",
   "metadata": {},
   "source": [
    "Everytime you change the code, remember to press \"Run\" or press Ctrl+Enter (or Shift+Enter) to rerun your code.\n",
    "\n",
    "In the next section, we fill in the filename (file is specified in your coursework spec, download it first and place in a directory that can be accessed by your Jupyter Notebook) and read in the data.\n",
    "\n",
    "## Reading the file into a dataframe.\n",
    "\n",
    "(NB. Do you know what a dataframe is? Can you explain it using simple English?)\n",
    "\n",
    "For more information on dataframes, google \"what are pandas dataframes?\".\n",
    "\n",
    "You'll need to pass some paramateres to the pandas library, so that it knows the following:\n",
    "the filename,\n",
    "the separator (what character separates the data points in each row in the file?)\n",
    "is there a header in the file (if not, say None)\n",
    "is there a special column in the file that's used to index that file?"
   ]
  },
  {
   "cell_type": "code",
   "execution_count": null,
   "metadata": {
    "collapsed": true
   },
   "outputs": [],
   "source": [
    "filename = _ _ _\n",
    "\n",
    "time_weight_bait_data = pd.read_csv(_ _ _,sep= _ _ _,header=_ _ _ ,index_col=_ _ _)"
   ]
  },
  {
   "cell_type": "markdown",
   "metadata": {},
   "source": [
    "Find a way of finding the \"shape\" of the data. You can google this if necessary.\n",
    "Shape is a tuple that gives you the number of columns followed by the number of rows.\n",
    "Is shape a method or an attribute? What does it mean? What's the difference?\n"
   ]
  },
  {
   "cell_type": "code",
   "execution_count": 6,
   "metadata": {},
   "outputs": [
    {
     "data": {
      "text/plain": [
       "(400, 3)"
      ]
     },
     "execution_count": 6,
     "metadata": {},
     "output_type": "execute_result"
    }
   ],
   "source": [
    "time_weight_bait_data._ _ _"
   ]
  },
  {
   "cell_type": "code",
   "execution_count": 7,
   "metadata": {
    "collapsed": true
   },
   "outputs": [],
   "source": [
    "#Give human-readable names to the columns\n",
    "___.columns=[\".....\",\".....\",\".....\"]"
   ]
  },
  {
   "cell_type": "code",
   "execution_count": 8,
   "metadata": {},
   "outputs": [
    {
     "data": {
      "text/html": [
       "<div>\n",
       "<style scoped>\n",
       "    .dataframe tbody tr th:only-of-type {\n",
       "        vertical-align: middle;\n",
       "    }\n",
       "\n",
       "    .dataframe tbody tr th {\n",
       "        vertical-align: top;\n",
       "    }\n",
       "\n",
       "    .dataframe thead th {\n",
       "        text-align: right;\n",
       "    }\n",
       "</style>\n",
       "<table border=\"1\" class=\"dataframe\">\n",
       "  <thead>\n",
       "    <tr style=\"text-align: right;\">\n",
       "      <th></th>\n",
       "      <th>Time</th>\n",
       "      <th>Weight</th>\n",
       "      <th>Bait</th>\n",
       "    </tr>\n",
       "  </thead>\n",
       "  <tbody>\n",
       "    <tr>\n",
       "      <th>0</th>\n",
       "      <td>15.25</td>\n",
       "      <td>2.40</td>\n",
       "      <td>B</td>\n",
       "    </tr>\n",
       "    <tr>\n",
       "      <th>1</th>\n",
       "      <td>7.43</td>\n",
       "      <td>1.66</td>\n",
       "      <td>C</td>\n",
       "    </tr>\n",
       "    <tr>\n",
       "      <th>2</th>\n",
       "      <td>7.17</td>\n",
       "      <td>2.75</td>\n",
       "      <td>C</td>\n",
       "    </tr>\n",
       "    <tr>\n",
       "      <th>3</th>\n",
       "      <td>2.93</td>\n",
       "      <td>1.21</td>\n",
       "      <td>A</td>\n",
       "    </tr>\n",
       "    <tr>\n",
       "      <th>4</th>\n",
       "      <td>11.07</td>\n",
       "      <td>0.39</td>\n",
       "      <td>C</td>\n",
       "    </tr>\n",
       "  </tbody>\n",
       "</table>\n",
       "</div>"
      ],
      "text/plain": [
       "    Time  Weight Bait\n",
       "0  15.25    2.40    B\n",
       "1   7.43    1.66    C\n",
       "2   7.17    2.75    C\n",
       "3   2.93    1.21    A\n",
       "4  11.07    0.39    C"
      ]
     },
     "execution_count": 8,
     "metadata": {},
     "output_type": "execute_result"
    }
   ],
   "source": [
    "#Display only the top rows\n",
    "___.___()"
   ]
  },
  {
   "cell_type": "code",
   "execution_count": null,
   "metadata": {
    "collapsed": true
   },
   "outputs": [],
   "source": [
    "#Now, you will display a sample of 10 random rows\n",
    "___._____(___)\n"
   ]
  },
  {
   "cell_type": "code",
   "execution_count": 9,
   "metadata": {},
   "outputs": [
    {
     "data": {
      "text/plain": [
       "array([[<matplotlib.axes._subplots.AxesSubplot object at 0x7f8792ab6278>,\n",
       "        <matplotlib.axes._subplots.AxesSubplot object at 0x7f87909d4358>]],\n",
       "      dtype=object)"
      ]
     },
     "execution_count": 9,
     "metadata": {},
     "output_type": "execute_result"
    },
    {
     "data": {
      "image/png": "[encoded data removed]",
      "text/plain": [
       "<Figure size 432x288 with 2 Axes>"
      ]
     },
     "metadata": {},
     "output_type": "display_data"
    }
   ],
   "source": [
    "# Now, generate histograms for each column using the DataFrame's built-in function\n",
    "# N.B. there are many ways to do this\n",
    "# First, type a dot \".\" after the objects name\n",
    "# Next press the Tab key \n",
    "# Type \"h\" and you will see the methods starting with that letter\n",
    "# Remember to add the brackets () at the end for a function call!\n",
    "\n",
    "time_weight_bait_data\n"
   ]
  },
  {
   "cell_type": "code",
   "execution_count": null,
   "metadata": {
    "collapsed": true
   },
   "outputs": [],
   "source": [
    "#Now specify the column size Weight (if you named it that!), hide the grid, and set bins to 50\n",
    "#Then rerun the histogram"
   ]
  },
  {
   "cell_type": "code",
   "execution_count": 19,
   "metadata": {},
   "outputs": [
    {
     "data": {
      "text/plain": [
       "array([[<matplotlib.axes._subplots.AxesSubplot object at 0x7f878740f0b8>]],\n",
       "      dtype=object)"
      ]
     },
     "execution_count": 19,
     "metadata": {},
     "output_type": "execute_result"
    },
    {
     "data": {
      "image/png": "[encoded data removed]",
      "text/plain": [
       "<Figure size 432x288 with 1 Axes>"
      ]
     },
     "metadata": {},
     "output_type": "display_data"
    }
   ],
   "source": [
    "time_weight_bait_data.___(column=\"___\",grid=_,bins=_)\n"
   ]
  },
  {
   "cell_type": "code",
   "execution_count": 10,
   "metadata": {},
   "outputs": [
    {
     "data": {
      "text/html": [
       "<div>\n",
       "<style scoped>\n",
       "    .dataframe tbody tr th:only-of-type {\n",
       "        vertical-align: middle;\n",
       "    }\n",
       "\n",
       "    .dataframe tbody tr th {\n",
       "        vertical-align: top;\n",
       "    }\n",
       "\n",
       "    .dataframe thead th {\n",
       "        text-align: right;\n",
       "    }\n",
       "</style>\n",
       "<table border=\"1\" class=\"dataframe\">\n",
       "  <thead>\n",
       "    <tr style=\"text-align: right;\">\n",
       "      <th></th>\n",
       "      <th>Time</th>\n",
       "      <th>Weight</th>\n",
       "    </tr>\n",
       "  </thead>\n",
       "  <tbody>\n",
       "    <tr>\n",
       "      <th>count</th>\n",
       "      <td>400.000000</td>\n",
       "      <td>400.00000</td>\n",
       "    </tr>\n",
       "    <tr>\n",
       "      <th>mean</th>\n",
       "      <td>9.370525</td>\n",
       "      <td>1.66740</td>\n",
       "    </tr>\n",
       "    <tr>\n",
       "      <th>std</th>\n",
       "      <td>5.796400</td>\n",
       "      <td>1.10816</td>\n",
       "    </tr>\n",
       "    <tr>\n",
       "      <th>min</th>\n",
       "      <td>0.010000</td>\n",
       "      <td>0.01000</td>\n",
       "    </tr>\n",
       "    <tr>\n",
       "      <th>25%</th>\n",
       "      <td>4.325000</td>\n",
       "      <td>0.70750</td>\n",
       "    </tr>\n",
       "    <tr>\n",
       "      <th>50%</th>\n",
       "      <td>9.020000</td>\n",
       "      <td>1.61500</td>\n",
       "    </tr>\n",
       "    <tr>\n",
       "      <th>75%</th>\n",
       "      <td>13.747500</td>\n",
       "      <td>2.40000</td>\n",
       "    </tr>\n",
       "    <tr>\n",
       "      <th>max</th>\n",
       "      <td>22.270000</td>\n",
       "      <td>4.88000</td>\n",
       "    </tr>\n",
       "  </tbody>\n",
       "</table>\n",
       "</div>"
      ],
      "text/plain": [
       "             Time     Weight\n",
       "count  400.000000  400.00000\n",
       "mean     9.370525    1.66740\n",
       "std      5.796400    1.10816\n",
       "min      0.010000    0.01000\n",
       "25%      4.325000    0.70750\n",
       "50%      9.020000    1.61500\n",
       "75%     13.747500    2.40000\n",
       "max     22.270000    4.88000"
      ]
     },
     "execution_count": 10,
     "metadata": {},
     "output_type": "execute_result"
    }
   ],
   "source": [
    "#If you run the \"describe\" function, it will show you LOTS of useful stats for both colunmns\n",
    "___._______()"
   ]
  },
  {
   "cell_type": "code",
   "execution_count": null,
   "metadata": {
    "collapsed": true
   },
   "outputs": [],
   "source": [
    "#Additionally calculate the skewness and kurtosis for each column\n",
    "\n",
    "#You can use your dataframe's built-in methods for that:\n",
    "\n",
    "____.skew()"
   ]
  },
  {
   "cell_type": "code",
   "execution_count": null,
   "metadata": {
    "collapsed": true
   },
   "outputs": [],
   "source": [
    "____.kurtosis()"
   ]
  },
  {
   "cell_type": "code",
   "execution_count": null,
   "metadata": {
    "collapsed": true
   },
   "outputs": [],
   "source": [
    "#Finally, find the smallest and biggest data values:\n",
    "\n",
    "____.____()"
   ]
  },
  {
   "cell_type": "code",
   "execution_count": null,
   "metadata": {
    "collapsed": true
   },
   "outputs": [],
   "source": [
    "____.____()"
   ]
  },
  {
   "cell_type": "markdown",
   "metadata": {},
   "source": [
    "# Seaborn Visualisations\n",
    "We will be using Seaborn for more complex visualisations."
   ]
  },
  {
   "cell_type": "code",
   "execution_count": 11,
   "metadata": {},
   "outputs": [
    {
     "data": {
      "text/plain": [
       "<seaborn.axisgrid.PairGrid at 0x7f8792ab6e10>"
      ]
     },
     "execution_count": 11,
     "metadata": {},
     "output_type": "execute_result"
    },
    {
     "data": {
      "image/png": "[encoded data removed]",
      "text/plain": [
       "<Figure size 360x360 with 6 Axes>"
      ]
     },
     "metadata": {},
     "output_type": "display_data"
    }
   ],
   "source": [
    "import seaborn as sns # For visualisations\n",
    "\n",
    "#Run the pairplot function from seaborn on your data frame\n",
    "\n",
    "___.pairplot(___)"
   ]
  },
  {
   "cell_type": "code",
   "execution_count": 12,
   "metadata": {},
   "outputs": [
    {
     "data": {
      "text/plain": [
       "<matplotlib.axes._subplots.AxesSubplot at 0x7f87876c53c8>"
      ]
     },
     "execution_count": 12,
     "metadata": {},
     "output_type": "execute_result"
    },
    {
     "data": {
      "image/png": "[encoded data removed]",
      "text/plain": [
       "<Figure size 432x288 with 1 Axes>"
      ]
     },
     "metadata": {},
     "output_type": "display_data"
    }
   ],
   "source": [
    "# Run the scatterplot of Weight vs. Time on your dataframe\n",
    "sns.___(x=\"Time\", y=\"___\", data=___)\n"
   ]
  },
  {
   "cell_type": "code",
   "execution_count": null,
   "metadata": {
    "collapsed": true
   },
   "outputs": [],
   "source": [
    "#Now generate smooth curves for the distributions of both variables\n",
    "\n",
    "sns.distplot(time_weight_bait_data[\"_\"])"
   ]
  },
  {
   "cell_type": "code",
   "execution_count": null,
   "metadata": {
    "collapsed": true
   },
   "outputs": [],
   "source": [
    "sns.distplot(time_weight_bait_data[\"_\"])"
   ]
  },
  {
   "cell_type": "code",
   "execution_count": null,
   "metadata": {
    "collapsed": true
   },
   "outputs": [],
   "source": [
    "#Create a new markdown cell below and write a summary of your findings from the plots above\n",
    "#Use headings of different sizes"
   ]
  },
  {
   "cell_type": "markdown",
   "metadata": {},
   "source": [
    "# Digging deeper into the correlation"
   ]
  },
  {
   "cell_type": "code",
   "execution_count": null,
   "metadata": {
    "collapsed": true
   },
   "outputs": [],
   "source": [
    "# Create a regplot to figure out the correlation\n",
    "\n",
    "sns.regplot(x=\"\", y=\"\", data=_)"
   ]
  },
  {
   "cell_type": "code",
   "execution_count": 1,
   "metadata": {
    "collapsed": true
   },
   "outputs": [],
   "source": [
    "#Import stats from scipy\n",
    "\n",
    "from ___ import ___\n"
   ]
  },
  {
   "cell_type": "code",
   "execution_count": null,
   "metadata": {
    "collapsed": true
   },
   "outputs": [],
   "source": [
    "# Use the pearsonr method to find the correlation details \n",
    "# Is it positive or negative?\n",
    "# Is it statistically significant?\n",
    "\n",
    "___.___(___,___)"
   ]
  },
  {
   "cell_type": "code",
   "execution_count": null,
   "metadata": {
    "collapsed": true
   },
   "outputs": [],
   "source": [
    "# Define a named function that calculates the R-squared using what we did in the previous step\n",
    "\n",
    "d__ r2(x,y):\n",
    "    return ___.___(_,_)[0]**2"
   ]
  },
  {
   "cell_type": "code",
   "execution_count": null,
   "metadata": {
    "collapsed": true
   },
   "outputs": [],
   "source": [
    "# You can experiment with some other functions like jointplot\n",
    "\n",
    "sns.jointplot(x=\"Time\", y=\"Weight\", data=time_weight_bait_data, kind=\"reg\", stat_func=r2)"
   ]
  },
  {
   "cell_type": "code",
   "execution_count": 1,
   "metadata": {
    "collapsed": true
   },
   "outputs": [],
   "source": [
    "#Create a new markdown cell below and write a summary of your findings from the plots above\n",
    "#Use headings of different sizes"
   ]
  },
  {
   "cell_type": "markdown",
   "metadata": {},
   "source": [
    "## [This is the end of your tutorial.]\n",
    "\n",
    "If you finished this early, have a look at the sklearn and numpy docs and examples online."
   ]
  },
  {
   "cell_type": "code",
   "execution_count": null,
   "metadata": {
    "collapsed": true
   },
   "outputs": [],
   "source": []
  }
 ],
 "metadata": {
  "kernelspec": {
   "display_name": "Python 3",
   "language": "python",
   "name": "python3"
  },
  "language_info": {
   "codemirror_mode": {
    "name": "ipython",
    "version": 3
   },
   "file_extension": ".py",
   "mimetype": "text/x-python",
   "name": "python",
   "nbconvert_exporter": "python",
   "pygments_lexer": "ipython3",
   "version": "3.8.3"
  }
 },
 "nbformat": 4,
 "nbformat_minor": 2
}
