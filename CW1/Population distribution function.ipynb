{
 "cells": [
  {
   "cell_type": "code",
   "execution_count": null,
   "id": "5185510d",
   "metadata": {},
   "outputs": [],
   "source": [
    "# Include this line in case the figures not show up in the web page\n",
    "%matplotlib inline \n",
    "import matplotlib.pyplot as plt\n",
    "import numpy as np\n",
    "from scipy import stats\n",
    "# This is to format your plots \n",
    "# and do things like plt.figure(figsize=(20,10)) which set the figure size to (20, 10)\n",
    "# Import the libraries pandas, and matplotlib\n",
    "# for matplotlib just load pyplot\n",
    "import pandas as pd\n",
    "import seaborn as sns # For visualisations\n",
    "#Run the pairplot function from seaborn on your data frame\n",
    "from scipy import stats\n",
    "from scipy.stats import norm"
   ]
  },
  {
   "cell_type": "code",
   "execution_count": null,
   "id": "c847c367",
   "metadata": {},
   "outputs": [],
   "source": [
    "filename = \"fish1.txt\"\n",
    "time_weight_bait_data = pd.read_csv(filename, sep= \" \", header= None, index_col= None)\n",
    "time_weight_bait_data.shape\n",
    "time_weight_bait_data.columns=[\"X\",\"Y\",\"Z\"]"
   ]
  },
  {
   "cell_type": "code",
   "execution_count": null,
   "id": "22a50315",
   "metadata": {},
   "outputs": [],
   "source": [
    "#If you run the \"describe\" function, it will show you LOTS of useful stats for both colunmns\n",
    "time_weight_bait_data.describe()\n"
   ]
  },
  {
   "cell_type": "code",
   "execution_count": null,
   "id": "6c87a466",
   "metadata": {},
   "outputs": [],
   "source": [
    "A = pd.read_csv(filename, sep= \" \", header= None, index_col= None)\n",
    "B = pd.read_csv(filename, sep= \" \", header= None, index_col= None)\n",
    "C = pd.read_csv(filename, sep= \" \", header= None, index_col= None)\n",
    "\n",
    "A.columns=[\"X\",\"Y\",\"Z\"]\n",
    "B.columns=[\"X\",\"Y\",\"Z\"]\n",
    "C.columns=[\"X\",\"Y\",\"Z\"]\n",
    "\n",
    "X.drop(['Y','Z'],axis=1,inplace=True)\n",
    "#X.drop(['Z'],axis=1,inplace=True)\n",
    "Y.drop(['X','Z'],axis=1,inplace=True)\n",
    "\n",
    "print(X)"
   ]
  }
 ],
 "metadata": {
  "kernelspec": {
   "display_name": "Python 3",
   "language": "python",
   "name": "python3"
  },
  "language_info": {
   "codemirror_mode": {
    "name": "ipython",
    "version": 3
   },
   "file_extension": ".py",
   "mimetype": "text/x-python",
   "name": "python",
   "nbconvert_exporter": "python",
   "pygments_lexer": "ipython3",
   "version": "3.8.8"
  }
 },
 "nbformat": 4,
 "nbformat_minor": 5
}
